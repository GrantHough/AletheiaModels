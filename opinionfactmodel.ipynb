{
 "cells": [
  {
   "cell_type": "code",
   "execution_count": 1,
   "metadata": {},
   "outputs": [
    {
     "name": "stderr",
     "output_type": "stream",
     "text": [
      "/Users/granthough/miniforge3/envs/grantyanis/lib/python3.10/site-packages/tqdm/auto.py:21: TqdmWarning: IProgress not found. Please update jupyter and ipywidgets. See https://ipywidgets.readthedocs.io/en/stable/user_install.html\n",
      "  from .autonotebook import tqdm as notebook_tqdm\n",
      "8092it [00:02, 3439.82it/s]\n",
      "Some weights of the PyTorch model were not used when initializing the TF 2.0 model TFBertModel: ['cls.predictions.transform.LayerNorm.weight', 'cls.seq_relationship.bias', 'cls.predictions.transform.dense.weight', 'cls.seq_relationship.weight', 'cls.predictions.bias', 'cls.predictions.transform.LayerNorm.bias', 'cls.predictions.transform.dense.bias']\n",
      "- This IS expected if you are initializing TFBertModel from a PyTorch model trained on another task or with another architecture (e.g. initializing a TFBertForSequenceClassification model from a BertForPreTraining model).\n",
      "- This IS NOT expected if you are initializing TFBertModel from a PyTorch model that you expect to be exactly identical (e.g. initializing a TFBertForSequenceClassification model from a BertForSequenceClassification model).\n",
      "All the weights of TFBertModel were initialized from the PyTorch model.\n",
      "If your task is similar to the task the model of the checkpoint was trained on, you can already use TFBertModel for predictions without further training.\n"
     ]
    },
    {
     "name": "stdout",
     "output_type": "stream",
     "text": [
      "323/323 [==============================] - 2915s 9s/step - loss: 0.1671 - accuracy: 0.9379 - val_loss: 0.0719 - val_accuracy: 0.9759\n"
     ]
    },
    {
     "name": "stderr",
     "output_type": "stream",
     "text": [
      "/Users/granthough/miniforge3/envs/grantyanis/lib/python3.10/site-packages/keras/src/engine/training.py:3000: UserWarning: You are saving your model as an HDF5 file via `model.save()`. This file format is considered legacy. We recommend using instead the native Keras format, e.g. `model.save('my_model.keras')`.\n",
      "  saving_api.save_model(\n"
     ]
    }
   ],
   "source": [
    "import pandas as pd\n",
    "from transformers import BertTokenizer\n",
    "from transformers import TFBertModel\n",
    "import numpy as np\n",
    "from tqdm.auto import tqdm\n",
    "import tensorflow as tf\n",
    "\n",
    "#twitter dataset of opinions and facts\n",
    "df = pd.read_csv(\"opinionfactdata.csv\")\n",
    "\n",
    "# all of this is extremely similar to OK2Say\n",
    "tokenizer = BertTokenizer.from_pretrained('bert-base-cased')\n",
    "\n",
    "xInputIds = np.zeros((len(df), 256))\n",
    "xAttnMasks = np.zeros((len(df), 256))\n",
    "\n",
    "def generate_training_data(df, ids, masks, tokenizer):\n",
    "    for i, text in tqdm(enumerate(df['sentence'])):\n",
    "        tokenized_text = tokenizer.encode_plus (\n",
    "            text,\n",
    "            max_length = 256,\n",
    "            truncation = True,\n",
    "            padding = 'max_length',\n",
    "            add_special_tokens = True,\n",
    "            return_tensors = 'tf'\n",
    "        )\n",
    "        ids[i, :] = tokenized_text.input_ids\n",
    "        masks[i, :] = tokenized_text.attention_mask\n",
    "    return ids, masks\n",
    "\n",
    "xInputIds, xAttnMasks = generate_training_data(df, xInputIds, xAttnMasks, tokenizer)\n",
    "\n",
    "labels = np.zeros((len(df), 2))\n",
    "labels[np.arange(len(df)), df['label'].values] = 1\n",
    "\n",
    "dataset = tf.data.Dataset.from_tensor_slices((xInputIds, xAttnMasks, labels))\n",
    "\n",
    "def SentimentDatasetMapFunction(inputIds, attnMasks, labels): \n",
    "    return {\n",
    "        'inputIds': inputIds,\n",
    "        'attentionMask': attnMasks\n",
    "    }, labels\n",
    "\n",
    "dataset = dataset.map(SentimentDatasetMapFunction)\n",
    "\n",
    "dataset = dataset.shuffle(10000).batch(20, drop_remainder = True)\n",
    "\n",
    "p = 0.8\n",
    "trainSize = int((len(df)//20)*p)\n",
    "\n",
    "trainDataset = dataset.take(trainSize)\n",
    "valDataset = dataset.skip(trainSize)\n",
    "\n",
    "bertModel = TFBertModel.from_pretrained('bert-base-cased')\n",
    "\n",
    "inputIds = tf.keras.layers.Input(shape = (256,), name = 'inputIds', dtype = 'int32')\n",
    "attentionMasks = tf.keras.layers.Input(shape = (256,), name = 'attentionMask', dtype = 'int32')\n",
    "\n",
    "bertEmbds = bertModel.bert(inputIds, attention_mask = attentionMasks)[1]\n",
    "intermediateLayer = tf.keras.layers.Dense(512, activation = 'relu', name = 'intermediateLayer')(bertEmbds)\n",
    "outputLayer = tf.keras.layers.Dense(2, activation = 'softmax', name = 'outputLayer')(intermediateLayer) \n",
    "\n",
    "model = tf.keras.Model(inputs = [inputIds, attentionMasks], outputs = outputLayer)\n",
    "\n",
    "model.compile(optimizer = tf.keras.optimizers.legacy.Adam(learning_rate = 1e-5, decay = 1e-6), loss = tf.keras.losses.CategoricalCrossentropy(), metrics = [tf.keras.metrics.CategoricalAccuracy('accuracy')])\n",
    "model.fit (\n",
    "    trainDataset,\n",
    "    validation_data = valDataset,\n",
    "    epochs = 1  \n",
    ")\n",
    "model.save('opinionfactmodel.h5')"
   ]
  }
 ],
 "metadata": {
  "kernelspec": {
   "display_name": "grantyanis",
   "language": "python",
   "name": "python3"
  },
  "language_info": {
   "codemirror_mode": {
    "name": "ipython",
    "version": 3
   },
   "file_extension": ".py",
   "mimetype": "text/x-python",
   "name": "python",
   "nbconvert_exporter": "python",
   "pygments_lexer": "ipython3",
   "version": "3.10.4"
  },
  "orig_nbformat": 4
 },
 "nbformat": 4,
 "nbformat_minor": 2
}
